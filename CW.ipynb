{
  "cells": [
    {
      "cell_type": "markdown",
      "metadata": {
        "id": "view-in-github",
        "colab_type": "text"
      },
      "source": [
        "<a href=\"https://colab.research.google.com/github/farz-1/template/blob/master/CW.ipynb\" target=\"_parent\"><img src=\"https://colab.research.google.com/assets/colab-badge.svg\" alt=\"Open In Colab\"/></a>"
      ]
    },
    {
      "cell_type": "code",
      "source": [
        "from google.colab import drive\n",
        "drive.mount('/content/drive')\n"
      ],
      "metadata": {
        "colab": {
          "base_uri": "https://localhost:8080/"
        },
        "id": "HmPjPj62wgKi",
        "outputId": "d3c12ab0-0c89-4367-abc1-a06b2bc0adb6"
      },
      "execution_count": 1,
      "outputs": [
        {
          "output_type": "stream",
          "name": "stdout",
          "text": [
            "Drive already mounted at /content/drive; to attempt to forcibly remount, call drive.mount(\"/content/drive\", force_remount=True).\n"
          ]
        }
      ]
    },
    {
      "cell_type": "code",
      "source": [
        "%cd /content/drive/MyDrive/colab/"
      ],
      "metadata": {
        "colab": {
          "base_uri": "https://localhost:8080/"
        },
        "id": "lI2-jKVnxJF2",
        "outputId": "fb4aa639-1ae4-4577-a6d2-d0379e856bda"
      },
      "execution_count": 2,
      "outputs": [
        {
          "output_type": "stream",
          "name": "stdout",
          "text": [
            "/content/drive/MyDrive/colab\n"
          ]
        }
      ]
    },
    {
      "cell_type": "code",
      "source": [
        "import json\n",
        "\n",
        "with open('tad_data.json') as f:\n",
        "    document = json.load(f)\n"
      ],
      "metadata": {
        "id": "tbEWg2qIxUt5"
      },
      "execution_count": 3,
      "outputs": []
    },
    {
      "cell_type": "markdown",
      "source": [],
      "metadata": {
        "id": "TvvMTkXwfY1z"
      }
    },
    {
      "cell_type": "code",
      "execution_count": 4,
      "metadata": {
        "id": "dh_tkE4uJWCC",
        "outputId": "fb7d7886-2549-48d3-b5f6-fe3c5b108f3f",
        "colab": {
          "base_uri": "https://localhost:8080/"
        }
      },
      "outputs": [
        {
          "output_type": "stream",
          "name": "stdout",
          "text": [
            "[\n",
            "  {\n",
            "    \"UID\": \"AVqkIhwDv8e3D1O-lebb\",\n",
            "    \"Name\": \"All-New Fire HD 8 Tablet, 8 HD Display, Wi-Fi, 16 GB - Includes Special Offers, Magenta\",\n",
            "    \"DoRecommend\": \"TRUE\",\n",
            "    \"Rating\": 5,\n",
            "    \"Review\": \"This product so far has not disappointed. My children love to use it and I like the ability to monitor control what content they see with ease.\",\n",
            "    \"Title\": \"Kindle\",\n",
            "    \"Username\": \"Adapter\"\n",
            "  },\n"
          ]
        }
      ],
      "source": [
        "!head tad_data.json"
      ]
    },
    {
      "cell_type": "code",
      "source": [],
      "metadata": {
        "id": "szTwg0NRFrco"
      },
      "execution_count": 4,
      "outputs": []
    },
    {
      "cell_type": "code",
      "source": [],
      "metadata": {
        "id": "siZeH2YoGP1b"
      },
      "execution_count": 4,
      "outputs": []
    },
    {
      "cell_type": "code",
      "execution_count": 5,
      "metadata": {
        "id": "oruDcZtzJWCE",
        "outputId": "7327f30b-2d78-48bb-bc1f-3b7dcd466351",
        "colab": {
          "base_uri": "https://localhost:8080/",
          "height": 35
        }
      },
      "outputs": [
        {
          "output_type": "execute_result",
          "data": {
            "text/plain": [
              "'This product so far has not disappointed. My children love to use it and I like the ability to monitor control what content they see with ease.'"
            ],
            "application/vnd.google.colaboratory.intrinsic+json": {
              "type": "string"
            }
          },
          "metadata": {},
          "execution_count": 5
        }
      ],
      "source": [
        "document[0]['Review']"
      ]
    },
    {
      "cell_type": "code",
      "execution_count": 6,
      "metadata": {
        "id": "RWg4q6vqJWCE"
      },
      "outputs": [],
      "source": [
        "def column(matrix, i):\n",
        "    return [row[i] for row in matrix]\n",
        "import random\n",
        "\n",
        "data=random.choices(document,k=9900)"
      ]
    },
    {
      "cell_type": "code",
      "execution_count": 7,
      "metadata": {
        "id": "gZAaTvhCJWCF",
        "outputId": "e68e05d4-9e38-4cf5-9603-4fb251e505f2",
        "colab": {
          "base_uri": "https://localhost:8080/"
        }
      },
      "outputs": [
        {
          "output_type": "stream",
          "name": "stdout",
          "text": [
            "9900\n",
            "9900\n",
            "198\n",
            "9702\n",
            "<class 'str'>\n"
          ]
        }
      ],
      "source": [
        "\n",
        "data[0]\n",
        "\n",
        "vals=[]\n",
        "vals.clear()\n",
        "\n",
        "\n",
        "for i in range(len(data)):\n",
        "    if(data[i]['DoRecommend']!=\"TRUE\" and data[i]['DoRecommend']!=\"FALSE\"):\n",
        "        vals.append(i)\n",
        "    if(len(data[i]['Review'])<5):\n",
        "        vals.append(i)\n",
        "\n",
        "print(len(data))\n",
        "\n",
        "vals=sorted(vals,reverse=True)\n",
        "\n",
        "print(len(data))\n",
        "for g in vals:\n",
        "  del data[g]\n",
        "print(len(vals))\n",
        "print(len(data))\n",
        "print(type(data[0]['DoRecommend']))\n",
        "\n",
        "\n"
      ]
    },
    {
      "cell_type": "code",
      "execution_count": 8,
      "metadata": {
        "id": "Xqs7KJYAJWCF",
        "outputId": "e549d99b-3361-46e0-b849-a005b79429ca",
        "colab": {
          "base_uri": "https://localhost:8080/"
        }
      },
      "outputs": [
        {
          "output_type": "stream",
          "name": "stdout",
          "text": [
            "5820\n",
            "1941\n",
            "1941\n"
          ]
        }
      ],
      "source": [
        "from sklearn.model_selection import train_test_split\n",
        "\n",
        "X= column(data,'DoRecommend')\n",
        "Y= column(data,'Review')\n",
        "\n",
        "rec_train_val,rec_test,rev_train_val,rev_test=train_test_split(X,Y,test_size=0.2, random_state=12)\n",
        "rec_train,rec_val,rev_train,rev_val=train_test_split(rec_train_val,rev_train_val,test_size=0.25,random_state=12)\n",
        "print(len(rec_train))\n",
        "print(len(rec_val))\n",
        "print(len(rec_test))\n",
        "\n",
        "total=len(data)"
      ]
    },
    {
      "cell_type": "code",
      "execution_count": 9,
      "metadata": {
        "id": "qnQVbPDGJWCG",
        "outputId": "62d93557-1053-4b80-d069-cbc6fecdd6f1",
        "colab": {
          "base_uri": "https://localhost:8080/"
        }
      },
      "outputs": [
        {
          "output_type": "execute_result",
          "data": {
            "text/plain": [
              "(0.5998763141620285, 0.20006184291898577, 0.20006184291898577)"
            ]
          },
          "metadata": {},
          "execution_count": 9
        }
      ],
      "source": [
        "len(rev_train)/total, len(rev_val)/total, len(rev_test)/total"
      ]
    },
    {
      "cell_type": "code",
      "source": [
        "import nltk\n",
        "nltk.download('stopwords')\n",
        "from nltk.corpus import stopwords\n",
        "stop_words = stopwords.words('english')"
      ],
      "metadata": {
        "colab": {
          "base_uri": "https://localhost:8080/"
        },
        "id": "JT6IcdcnhfF9",
        "outputId": "8622d03b-9325-4917-d0af-85e40249b45b"
      },
      "execution_count": 10,
      "outputs": [
        {
          "output_type": "stream",
          "name": "stderr",
          "text": [
            "[nltk_data] Downloading package stopwords to /root/nltk_data...\n",
            "[nltk_data]   Package stopwords is already up-to-date!\n"
          ]
        }
      ]
    },
    {
      "cell_type": "code",
      "execution_count": 21,
      "metadata": {
        "id": "vq_T5-IgJWCH",
        "colab": {
          "base_uri": "https://localhost:8080/"
        },
        "outputId": "1db1fea4-4e9c-468a-a9b3-d192f9afc5f8"
      },
      "outputs": [
        {
          "output_type": "stream",
          "name": "stdout",
          "text": [
            "len(rec_train)=5844\tlen(rev_train)=5844\n",
            "len(rec_val)=1948\tlen(rev_val)=1948\n",
            "len(rec_test)=1949\tlen(rev_test)=1949\n"
          ]
        }
      ],
      "source": [
        "print(f\"{len(rec_train)=}\\t{len(rev_train)=}\")\n",
        "print(f\"{len(rec_val)=}\\t{len(rev_val)=}\")\n",
        "print(f\"{len(rec_test)=}\\t{len(rev_test)=}\")"
      ]
    },
    {
      "cell_type": "code",
      "execution_count": 22,
      "metadata": {
        "id": "7Mvwlj8NJWCH",
        "outputId": "5834204c-3b0f-474f-c542-1cbadea2d6fa",
        "colab": {
          "base_uri": "https://localhost:8080/"
        }
      },
      "outputs": [
        {
          "output_type": "stream",
          "name": "stdout",
          "text": [
            "Converged after 56 iterations.\n"
          ]
        }
      ],
      "source": [
        "import numpy as np\n",
        "from sklearn.feature_extraction.text import TfidfVectorizer\n",
        "import random\n",
        "# Step 0: Vectorizing the text\n",
        "vectorizer = TfidfVectorizer(stop_words=stop_words)\n",
        "tfidf = vectorizer.fit_transform(rev_train)\n",
        "\n",
        "# Step 1: Picking k random centroids\n",
        "k = 5 # number of clusters\n",
        "samples, features = tfidf.shape\n",
        "centroids = np.zeros((k, features))\n",
        "for i in range(k):\n",
        "    centroid = tfidf[np.random.choice(samples)].toarray()\n",
        "    centroids[i] = centroid\n",
        "\n",
        "# Step 2: Assigning each vector to its closest centroid\n",
        "def assign_cluster(tfidf, centroids):\n",
        "    clusters = []\n",
        "    for i in range(tfidf.shape[0]):\n",
        "        vector = tfidf[i].toarray()\n",
        "        distances = np.linalg.norm(vector - centroids, axis=1)\n",
        "        closest_centroid = np.argmin(distances)\n",
        "        clusters.append(closest_centroid)\n",
        "    return clusters\n",
        "\n",
        "clusters = assign_cluster(tfidf, centroids)\n",
        "\n",
        "# Step 3: Recalculate the centroids based on the closest vectors\n",
        "def recalculate_centroids(tfidf, cluster_assignment, k):\n",
        "    new_centroids = np.zeros((k, features))\n",
        "    for i in range(k):\n",
        "        cluster_mean = np.mean(tfidf[np.where(np.array(clusters) == i)].toarray(), axis=0)\n",
        "        new_centroids[i] = cluster_mean\n",
        "    return new_centroids\n",
        "\n",
        "max_iterations = 100\n",
        "for iteration in range(max_iterations):\n",
        "    clusters = assign_cluster(tfidf, centroids)\n",
        "    new_centroids = recalculate_centroids(tfidf, clusters, k)\n",
        "    if np.allclose(centroids, new_centroids):\n",
        "        break\n",
        "    centroids = new_centroids\n",
        "\n",
        "print(\"Converged after\", iteration + 1, \"iterations.\")\n",
        "\n"
      ]
    },
    {
      "cell_type": "code",
      "source": [
        "# Step 4: Get the documents assigned to each cluster and the top 5 tokens with the highest magnitude in the corresponding centroid\n",
        "cluster_assignments = assign_cluster(tfidf, centroids)\n",
        "\n",
        "for i in range(k):\n",
        "    print(f\"Cluster {i+1}:\")\n",
        "    documents_in_cluster = [rev_train[j] for j in range(len(rev_train)) if cluster_assignments[j] == i]\n",
        "    print(f\"Number of documents in cluster: {len(documents_in_cluster)}\")\n",
        "    centroid = centroids[i]\n",
        "    sorted_idx = np.argsort(centroid)[::-1][:5] # Get the indices of the top 5 tokens with the highest magnitude\n",
        "    top_tokens = [list(vectorizer.vocabulary_.keys())[list(vectorizer.vocabulary_.values()).index(idx)] for idx in sorted_idx]\n",
        "    print(f\"Top 5 tokens in centroid: {top_tokens}\")\n",
        "    print(\"Example documents in cluster:\")\n",
        "    for j in range(min(5, len(documents_in_cluster))):\n",
        "        print(f\"Document {j+1}: {documents_in_cluster[j]}\")\n",
        "    print(\"----\")\n"
      ],
      "metadata": {
        "colab": {
          "base_uri": "https://localhost:8080/"
        },
        "id": "my62kD68z-b5",
        "outputId": "470e8c29-a3bf-45f8-aac5-acf3352afb95"
      },
      "execution_count": 23,
      "outputs": [
        {
          "output_type": "stream",
          "name": "stdout",
          "text": [
            "Cluster 1:\n",
            "Number of documents in cluster: 2819\n",
            "Top 5 tokens in centroid: ['kindle', 'love', 'bought', 'fire', 'one']\n",
            "Example documents in cluster:\n",
            "Document 1: Many of our questions to her she miss interpreted or replied as not understanding what we were looking for. Distance for her to hear us was minimal. I returned this one and purchased the \"Google\" and this one is much better and more knowledgeable with answers. Both devices recommend using the phone app and also making other purchases for more usage of items that may be available. I didn't expect additional charges and so I'm not to thrilled with either one but I did keep the Google device in hopes of better to come in the future.\n",
            "Document 2: Hard to figure out to use this tablet can't figure out how to close apps. Also says no storage to run wifi. Lastly bought three of them and one is not working wish it came with a user guide\n",
            "Document 3: Comes with a bunch of apps to watch TV and to play games as well.\n",
            "Document 4: We originally owned an original kindle but it was slow app store was not the best and overall interface was to be desired. In fact eventually the device crashed and couldn't be recovered with limited use. Deeply debated about getting another and actually bought a Samsung tablet, but it was too small. This was such a good deal it was hard to ignore and have been very happy to give another try. This device is a great size and much better interface. Would buy again and will consider in the future for the kids.\n",
            "Document 5: Great tablet thats ready right out of the packaging. It comes pre loaded with loads of apps and has a nice feel in the hands. screen quality is nice, the only thing i would like to see changed is the amount of time it takes the kindle to start up and shut down, it can get annoying at times. i have a 2 yo and 8yo and its held up great, dropped on cement and no cracks.\n",
            "----\n",
            "Cluster 2:\n",
            "Number of documents in cluster: 610\n",
            "Top 5 tokens in centroid: ['easy', 'use', 'set', 'great', 'love']\n",
            "Example documents in cluster:\n",
            "Document 1: This thing is awesome. Good volume, blends in with the room and is easy to setup.\n",
            "Document 2: It was a great present for my grandma. It is very easy to use.\n",
            "Document 3: I find this product to be very efficient for several reasons on an everyday use. The more I use it the more I like it\n",
            "Document 4: Bought this for my husband to use for the internet instead of his smartphone. It is simple to use.\n",
            "Document 5: I had put off getting an echo and now, I am hooked on it. It was easy to set up and is extremely easy to use. In conjunction with a harmony remote control and hub, the echo controls the stereo, television and more. The fidelity is surprisingly good for a small unit.\n",
            "----\n",
            "Cluster 3:\n",
            "Number of documents in cluster: 1096\n",
            "Top 5 tokens in centroid: ['tablet', 'price', 'great', 'good', 'kids']\n",
            "Example documents in cluster:\n",
            "Document 1: Chose this tablet due to the parental control features as a gift for my granddaughter.\n",
            "Document 2: Goog tablet the only bad part is that you have to be creating a profile and thats where it gets complicated because when they sell u the tablet they saw its for kids\n",
            "Document 3: It's not the biggest or fastest but for the price it is perfect! It's a great little device that works well.\n",
            "Document 4: LIMITED CAPACITY BUT FOR THE PRICE IT IS A VERY GOOD BUY\n",
            "Document 5: This is the ideal tablet for my 8 year old son ##1\n",
            "----\n",
            "Cluster 4:\n",
            "Number of documents in cluster: 232\n",
            "Top 5 tokens in centroid: ['recommend', 'would', 'product', 'highly', 'anyone']\n",
            "Example documents in cluster:\n",
            "Document 1: This is my first tablet. It is simple to use and very efficient.The only thing that I would have liked would be larger keys on the key pad. Other than that I am very happy with it.\n",
            "Document 2: Wonderful product. Very happy to be cable free! Highly recommend!\n",
            "Document 3: Tons of things you can do with this. Highly recommend it.\n",
            "Document 4: Works for what hubby wanted it for. Will recommend.\n",
            "Document 5: Works as annticapated. Would recommend. Might buy another one. This survey is not working right.???????????\n",
            "----\n",
            "Cluster 5:\n",
            "Number of documents in cluster: 1087\n",
            "Top 5 tokens in centroid: ['great', 'echo', 'alexa', 'music', 'product']\n",
            "Example documents in cluster:\n",
            "Document 1: Great purchase and good investment.Also wonderful viewing\n",
            "Document 2: Sound quality is pretty good if you want it to play background music, but I still prefer Sonos for this purpose. Alexa is useful for controlling the widest range of smart home products, but it's not backed by Google Home's superior search intelligence, so it isn't that great for asking in-depth questions of it. There are comparisons of these products out there, so take a look before making a decision. Since I mostly wanted it for home control, it suits my need.\n",
            "Document 3: This is great toy. You may not need it, but you'll want it, and love it when you start using it.\n",
            "Document 4: She's smart, funny, entertaining and very helpful. You should have her in your home. She's so worth it!\n",
            "Document 5: My kids really enjoy the alexa. I will buy more of these in the future\n",
            "----\n"
          ]
        }
      ]
    },
    {
      "cell_type": "code",
      "source": [],
      "metadata": {
        "id": "nzhgJ_pYhdfq"
      },
      "execution_count": 26,
      "outputs": []
    },
    {
      "cell_type": "code",
      "execution_count": 25,
      "metadata": {
        "id": "mHTJq2RwJWCI",
        "outputId": "6e479a51-4a49-4fc9-a1c7-7d1b9608a35c",
        "colab": {
          "base_uri": "https://localhost:8080/",
          "height": 266
        }
      },
      "outputs": [
        {
          "output_type": "display_data",
          "data": {
            "text/plain": [
              "<Figure size 432x288 with 1 Axes>"
            ],
            "image/png": "[encoded data removed]"
          },
          "metadata": {
            "needs_background": "light"
          }
        }
      ],
      "source": [
        "import matplotlib.pyplot as plt\n",
        "from sklearn.decomposition import PCA\n",
        "pca = PCA(n_components=2)\n",
        "centroids_2d = pca.fit_transform(centroids)\n",
        "plt.scatter(centroids_2d[:,0], centroids_2d[:,1], marker='X', s=200, linewidths=3, color='r')\n",
        "plt.show()"
      ]
    },
    {
      "cell_type": "code",
      "source": [
        "train_data, test_data, train_labels, test_labels = train_test_split(X, Y, test_size=0.2, random_state=42)\n",
        "train_data, val_data, train_labels, val_labels = train_test_split(train_data, train_labels, test_size=0.25, random_state=42)\n",
        "\n",
        "# Print the sizes of each set\n",
        "print(\"Number of training examples:\", len(train_data))\n",
        "print(\"Number of validation examples:\", len(val_data))\n",
        "print(\"Number of test examples:\", len(test_data))"
      ],
      "metadata": {
        "id": "UFiSlM9B_gNk",
        "colab": {
          "base_uri": "https://localhost:8080/"
        },
        "outputId": "1c615e7d-ce53-4e49-a775-950acc9b0398"
      },
      "execution_count": 26,
      "outputs": [
        {
          "output_type": "stream",
          "name": "stdout",
          "text": [
            "Number of training examples: 5844\n",
            "Number of validation examples: 1948\n",
            "Number of test examples: 1949\n"
          ]
        }
      ]
    },
    {
      "cell_type": "code",
      "source": [
        "import numpy as np\n",
        "from sklearn.feature_extraction.text import TfidfVectorizer\n",
        "import random\n",
        "\n",
        "rec_train_val, rec_test, rev_train_val, rev_test = train_test_split(\n",
        "    [d['DoRecommend'] + ' ' + d['Review'] for d in data],\n",
        "    [d['Review'] for d in data],\n",
        "    test_size=0.2, random_state=12)\n",
        "rec_train, rec_val, rev_train, rev_val = train_test_split(\n",
        "    rec_train_val, rev_train_val,\n",
        "    test_size=0.25, random_state=12)\n",
        "\n",
        "# Vectorize the text\n",
        "vectorizer = TfidfVectorizer(stop_words=stop_words)\n",
        "tfidf = vectorizer.fit_transform(rev_train_val)\n",
        "\n",
        "# Define the number of clusters\n",
        "k = 5\n",
        "\n",
        "# Initialize the centroids\n",
        "samples, features = tfidf.shape\n",
        "centroids = np.zeros((k, features))\n",
        "for i in range(k):\n",
        "    centroid = tfidf[np.random.choice(samples)].toarray()\n",
        "    centroids[i] = centroid\n",
        "\n",
        "# Define the maximum number of iterations\n",
        "max_iterations = 100\n",
        "\n",
        "# Iterate until convergence\n",
        "for iteration in range(max_iterations):\n",
        "    # Assign each vector to its closest centroid\n",
        "    clusters = []\n",
        "    for i in range(tfidf.shape[0]):\n",
        "        vector = tfidf[i].toarray()\n",
        "        distances = np.linalg.norm(vector - centroids, axis=1)\n",
        "        closest_centroid = np.argmin(distances)\n",
        "        clusters.append(closest_centroid)\n",
        "\n",
        "    # Recalculate the centroids based on the closest vectors\n",
        "    new_centroids = np.zeros((k, features))\n",
        "    for i in range(k):\n",
        "        cluster_mean = np.mean(tfidf[np.where(np.array(clusters) == i)].toarray(), axis=0)\n",
        "        new_centroids[i] = cluster_mean\n",
        "\n",
        "    # Check for convergence\n",
        "    if np.allclose(centroids, new_centroids):\n",
        "        break\n",
        "\n",
        "    centroids = new_centroids\n",
        "\n",
        "print(\"Converged after\", iteration + 1, \"iterations.\")"
      ],
      "metadata": {
        "id": "mgcZTgmeVnjA",
        "colab": {
          "base_uri": "https://localhost:8080/"
        },
        "outputId": "2eebc085-c7a6-454a-8dfb-229db6ba6397"
      },
      "execution_count": 27,
      "outputs": [
        {
          "output_type": "stream",
          "name": "stdout",
          "text": [
            "Converged after 22 iterations.\n"
          ]
        }
      ]
    },
    {
      "cell_type": "code",
      "source": [
        "rec_train_val[0]"
      ],
      "metadata": {
        "colab": {
          "base_uri": "https://localhost:8080/",
          "height": 35
        },
        "id": "VXT5Nlbmkj03",
        "outputId": "141bcee9-3321-4ec2-bf2f-53590fc57aff"
      },
      "execution_count": 28,
      "outputs": [
        {
          "output_type": "execute_result",
          "data": {
            "text/plain": [
              "'TRUE This is a good product and streams very well for all of our favorite online services!'"
            ],
            "application/vnd.google.colaboratory.intrinsic+json": {
              "type": "string"
            }
          },
          "metadata": {},
          "execution_count": 28
        }
      ]
    },
    {
      "cell_type": "code",
      "source": [
        "# Assign each vector to its closest centroid\n",
        "clusters = []\n",
        "for i in range(tfidf.shape[0]):\n",
        "    vector = tfidf[i].toarray()\n",
        "    distances = np.linalg.norm(vector - centroids, axis=1)\n",
        "    closest_centroid = np.argmin(distances)\n",
        "    clusters.append(closest_centroid)\n",
        "# Define a function to print the top tokens in each cluster\n",
        "def print_top_tokens_in_cluster(cluster_idx, centroid, vectorizer, n_tokens=5):\n",
        "    top_indices = centroid.argsort()[::-1][:n_tokens]\n",
        "    top_tokens = [list(vectorizer.vocabulary_.keys())[list(vectorizer.vocabulary_.values()).index(index)] for index in top_indices]\n",
        "    print(\"Cluster\", cluster_idx)\n",
        "    print(\"Top tokens:\", top_tokens)\n",
        "    print()\n",
        "\n",
        "# Print the first few documents assigned to each cluster and their top tokens\n",
        "num_docs_to_print = 5\n",
        "for i in range(k):\n",
        "    cluster_indices = np.where(np.array(clusters) == i)[0]\n",
        "    print(\"Documents assigned to cluster\", i+1, \":\")\n",
        "    for j, idx in enumerate(cluster_indices):\n",
        "        if j >= num_docs_to_print:\n",
        "            break\n",
        "        print(rev_train_val[idx])\n",
        "    print()\n",
        "    print_top_tokens_in_cluster(i, centroids[i], vectorizer)\n"
      ],
      "metadata": {
        "colab": {
          "base_uri": "https://localhost:8080/"
        },
        "id": "o4toxkhAYY6C",
        "outputId": "2ae60b70-e7c9-4682-f3d5-58e957b5c158"
      },
      "execution_count": 29,
      "outputs": [
        {
          "output_type": "stream",
          "name": "stdout",
          "text": [
            "Documents assigned to cluster 1 :\n",
            "Bought two...one for each kid for Christmas. Perfect for the kids. Download their shows and music. Keeps them off ours. Durable enough for them to use on their own.\n",
            "I have used this everynight since I bought it to catch all my favorite shows and movies. I am so glad I bought this product!!!!!!\n",
            "Bought this tablet for my 2 &1/2 year old and it is perfect. Games and videos that come on it are very age appropriate and the tablet has been very durable thus far.\n",
            "We bought this as a birthday present for my 8 year old. It has almost everything she wants on it. Only problem is Amazon's app options are limited compared to Apple or Google Play. Other than that, she loves it.\n",
            "My children loved their previous kindles so much I bought them an upgrade with the case - so worth it.\n",
            "\n",
            "Cluster 0\n",
            "Top tokens: ['loves', 'bought', 'gift', 'old', 'year']\n",
            "\n",
            "Documents assigned to cluster 2 :\n",
            "This is a good product and streams very well for all of our favorite online services!\n",
            "Sound quality is pretty good if you want it to play background music, but I still prefer Sonos for this purpose. Alexa is useful for controlling the widest range of smart home products, but it's not backed by Google Home's superior search intelligence, so it isn't that great for asking in-depth questions of it. There are comparisons of these products out there, so take a look before making a decision. Since I mostly wanted it for home control, it suits my need.\n",
            "Simple to operate for a 3 yr old . Would recommend\n",
            "was skeptical at first because I thought it would be the same as the fire stick.Boy was I wrong.4k is awesome on my 4k tetevision.\n",
            "Very power full box, great for streaming 4K look beautiful.\n",
            "\n",
            "Cluster 1\n",
            "Top tokens: ['amazon', 'tv', 'love', 'echo', 'alexa']\n",
            "\n",
            "Documents assigned to cluster 3 :\n",
            "The voyage is so much easier on the eyes. The size is great and easy to carry in a briefcase for travel purposes.\n",
            "I purchased this tablet for my grandchildren over the holidays. they are 3 and 6yrs old. they love it . it's easy to use - and they are able to scroll through the programs easily.\n",
            "Love the silver color and larger screen also easy to navigate\n",
            "Long battery life, clear,crisp screen,lightweight and easy to hold. Compatible with Amazon's vast ecosystem of reading materials. Lose yourself in the book--- it is a joy to use.\n",
            "Easy to access the apps, but not always easy to quit. The device works good, but since it's the apps that make it what it is, more attention should be given to their operation. I was disappointed that it did not come with even a basic user's guide.\n",
            "\n",
            "Cluster 2\n",
            "Top tokens: ['easy', 'use', 'great', 'set', 'love']\n",
            "\n",
            "Documents assigned to cluster 4 :\n",
            "The Kindle works as it should and was inexpensive but has a short battery life\n",
            "My daughter love her new tablet, I use for a few days and it's pretty good\n",
            "love the worry free guarantee since this has been dropped several times. with that being said this tablet hs held up\n",
            "This tablet is hands down the best investment I've ever made. I used to carry a laptop to meetings, then my kids talked me into getting a tablet and what a difference. As long as there is wifi it does everything my laptop will.\n",
            "I wore out my first generation paperwhite......onto the next! Kindle paperwhites are the way to go!\n",
            "\n",
            "Cluster 3\n",
            "Top tokens: ['tablet', 'kindle', 'good', 'reading', 'read']\n",
            "\n",
            "Documents assigned to cluster 5 :\n",
            "Excellent product very good piece strongly recommend\n",
            "Brought it for my toddler for xmas, so hopefully it works great.\n",
            "This tablet was a gift for my nephew who is 10, great gift where he can use it to get on the internet. It works well for what he is using it for.\n",
            "Very versatile and can be great for kids & adults.\n",
            "Great product & price, especially for gift giving (especially for children).\n",
            "\n",
            "Cluster 4\n",
            "Top tokens: ['great', 'product', 'price', 'works', 'tablet']\n",
            "\n"
          ]
        }
      ]
    },
    {
      "cell_type": "code",
      "source": [
        "import matplotlib.pyplot as plt\n",
        "from sklearn.decomposition import PCA\n",
        "pca = PCA(n_components=2)\n",
        "centroids_2d = pca.fit_transform(centroids)\n",
        "plt.scatter(centroids_2d[:,0], centroids_2d[:,1], marker='X', s=200, linewidths=3, color='r')\n",
        "plt.show()"
      ],
      "metadata": {
        "colab": {
          "base_uri": "https://localhost:8080/",
          "height": 265
        },
        "id": "6KmhHlPklbEv",
        "outputId": "8cf9c9e1-17f8-4f5a-a9ae-d77baaa824ef"
      },
      "execution_count": 30,
      "outputs": [
        {
          "output_type": "display_data",
          "data": {
            "text/plain": [
              "<Figure size 432x288 with 1 Axes>"
            ],
            "image/png": "[encoded data removed]"
          },
          "metadata": {
            "needs_background": "light"
          }
        }
      ]
    },
    {
      "cell_type": "code",
      "source": [
        "from sklearn.dummy import DummyClassifier\n",
        "\n",
        "# Split the data into train, validation, and test sets\n",
        "# ...\n",
        "\n",
        "# Create a dummy classifier with strategy 'most_frequent'\n",
        "dummy_clf = DummyClassifier(strategy='stratified')\n",
        "\n",
        "# Fit the classifier on the training data\n",
        "dummy_clf.fit(rec_train, rev_train)\n",
        "\n",
        "# Predict on the validation data\n",
        "y_pred = dummy_clf.predict(rec_val)\n",
        "\n",
        "# Calculate accuracy on the validation data\n",
        "accuracy = dummy_clf.score(rec_val, rev_val)\n",
        "\n",
        "print(\"Accuracy:\", accuracy)\n"
      ],
      "metadata": {
        "id": "PpQFFfD91tGL",
        "colab": {
          "base_uri": "https://localhost:8080/"
        },
        "outputId": "1ffbf35d-8fb6-40ab-ef27-797c43367e30"
      },
      "execution_count": 31,
      "outputs": [
        {
          "output_type": "stream",
          "name": "stdout",
          "text": [
            "Accuracy: 0.0\n"
          ]
        }
      ]
    },
    {
      "cell_type": "code",
      "source": [
        "import numpy as np\n",
        "from sklearn.feature_extraction.text import CountVectorizer\n",
        "from sklearn.preprocessing import OneHotEncoder\n",
        "from sklearn.model_selection import train_test_split\n",
        "from sklearn.linear_model import LogisticRegression\n",
        "\n",
        "# Convert text data to a matrix of word counts\n",
        "vectorizer = CountVectorizer(stop_words=stop_words)\n",
        "X_text = vectorizer.fit_transform(rev_train_val)\n",
        "\n",
        "# Convert the word count matrix to a binary matrix of one-hot vectors\n",
        "encoder = OneHotEncoder()\n",
        "X_one_hot = encoder.fit_transform(X_text.toarray())\n",
        "\n",
        "# Convert the sparse matrix to a dense numpy array\n",
        "X_one_hot_dense = X_one_hot.toarray()\n",
        "\n",
        "# Concatenate the one-hot matrix with the binary DoRecommend feature\n",
        "X = np.concatenate([X_one_hot_dense, np.array(rec_train_val).reshape(-1, 1)], axis=1)\n",
        "\n",
        "# Split the data into training, validation, and testing sets\n",
        "X_train, X_val_test, y_train, y_val_test = train_test_split(X, rec_train_val, test_size=0.2, random_state=12)\n",
        "X_val, X_test, y_val, y_test = train_test_split(X_val_test, y_val_test, test_size=0.5, random_state=12)\n",
        "\n",
        "# Fit the LogisticRegression model to the training data\n",
        "model = LogisticRegression()\n",
        "model.fit(X_train, y_train)\n",
        "\n",
        "# Evaluate the model on the validation and testing sets\n",
        "print(\"Validation accuracy:\", model.score(X_val, y_val))\n",
        "print(\"Testing accuracy:\", model.score(X_test, y_test))\n"
      ],
      "metadata": {
        "id": "OiT49wYn3WU7"
      },
      "execution_count": null,
      "outputs": []
    },
    {
      "cell_type": "code",
      "source": [],
      "metadata": {
        "id": "MkOGzSS04mDO"
      },
      "execution_count": null,
      "outputs": []
    },
    {
      "cell_type": "code",
      "source": [],
      "metadata": {
        "id": "EHQnOjlSizzv"
      },
      "execution_count": null,
      "outputs": []
    },
    {
      "cell_type": "code",
      "source": [
        "from sklearn.model_selection import train_test_split, cross_val_score\n",
        "from sklearn.dummy import DummyClassifier\n",
        "from sklearn.linear_model import LogisticRegression\n",
        "from sklearn.svm import SVC\n",
        "from sklearn.feature_extraction.text import CountVectorizer, TfidfVectorizer\n",
        "from sklearn.metrics import accuracy_score, precision_score, recall_score, f1_score\n",
        "import matplotlib.pyplot as plt\n",
        "X_train_val, X_test, y_train_val, y_test = train_test_split(\n",
        "    [d['DoRecommend'] + ' ' + d['Review'] for d in data],\n",
        "    [d['DoRecommend'] for d in data],\n",
        "    test_size=0.2, random_state=12)\n",
        "\n",
        "X_train, X_val, y_train, y_val = train_test_split(\n",
        "    X_train_val, y_train_val,\n",
        "    test_size=0.25, random_state=12)\n",
        "\n",
        "dummy_classifiers = [\n",
        "    DummyClassifier(strategy=\"most_frequent\"),\n",
        "    DummyClassifier(strategy=\"stratified\")\n",
        "]\n",
        "logistic_regression = LogisticRegression(solver='lbfgs', max_iter=1000)\n",
        "svc = SVC(kernel='rbf')\n",
        "\n",
        "# Define the feature representations\n",
        "count_vectorizer = CountVectorizer()\n",
        "tfidf_vectorizer = TfidfVectorizer()\n",
        "\n",
        "# Evaluate the classifiers using cross-validation\n",
        "for clf in dummy_classifiers + [logistic_regression, svc]:\n",
        "    for vectorizer in [count_vectorizer, tfidf_vectorizer]:\n",
        "        X_train_transformed = vectorizer.fit_transform(X_train)\n",
        "        scores = cross_val_score(clf, X_train_transformed, y_train, cv=5)\n",
        "        print(f\"{clf.__class__.__name__} with {vectorizer.__class__.__name__}: {scores.mean():.3f} +/- {scores.std():.3f}\")\n",
        "print('*'*50)\n",
        "# Evaluate the classifiers using cross-validation\n",
        "results = []\n",
        "for clf in dummy_classifiers + [logistic_regression, svc]:\n",
        "    for vectorizer in [count_vectorizer, tfidf_vectorizer]:\n",
        "        X_train_transformed = vectorizer.fit_transform(X_train)\n",
        "        X_val_transformed = vectorizer.transform(X_val)\n",
        "        clf.fit(X_train_transformed, y_train)\n",
        "        y_pred = clf.predict(X_val_transformed)\n",
        "        accuracy = accuracy_score(y_val, y_pred)\n",
        "        precision = precision_score(y_val, y_pred, average='macro',zero_division=0)\n",
        "        recall = recall_score(y_val, y_pred, average='macro')\n",
        "        f1 = f1_score(y_val, y_pred, average='macro')\n",
        "        result = {'Classifier': clf.__class__.__name__,\n",
        "                  'Vectorizer': vectorizer.__class__.__name__,\n",
        "                  'Accuracy': accuracy,\n",
        "                  'Precision': precision,\n",
        "                  'Recall': recall,\n",
        "                  'F1': f1}\n",
        "        results.append(result)\n",
        "\n",
        "# Print the results\n",
        "print('{:<25} {:<20} {:<10} {:<10} {:<10} {:<10}'.format(\n",
        "    'Classifier', 'Vectorizer', 'Accuracy', 'Precision', 'Recall', 'F1'))\n",
        "best_f1 = 0\n",
        "for result in results:\n",
        "    classifier = result['Classifier']\n",
        "    vectorizer = result['Vectorizer']\n",
        "    accuracy = result['Accuracy']\n",
        "    precision = result['Precision']\n",
        "    recall = result['Recall']\n",
        "    f1 = result['F1']\n",
        "    print('{:<25} {:<20} {:<10.3f} {:<10.3f} {:<10.3f} {:<10.3f}'.format(\n",
        "        classifier, vectorizer, accuracy, precision, recall, f1))\n",
        "    if f1 > best_f1:\n",
        "        best_f1 = f1\n",
        "        best_classifier = classifier\n",
        "        best_vectorizer = vectorizer\n",
        "\n"
      ],
      "metadata": {
        "colab": {
          "base_uri": "https://localhost:8080/"
        },
        "id": "Ff9naNWbkqi8",
        "outputId": "a844217f-af91-49b2-ad8d-d2b36f89b577"
      },
      "execution_count": 11,
      "outputs": [
        {
          "output_type": "stream",
          "name": "stdout",
          "text": [
            "DummyClassifier with CountVectorizer: 0.957 +/- 0.000\n",
            "DummyClassifier with TfidfVectorizer: 0.957 +/- 0.000\n",
            "DummyClassifier with CountVectorizer: 0.917 +/- 0.005\n",
            "DummyClassifier with TfidfVectorizer: 0.919 +/- 0.004\n",
            "LogisticRegression with CountVectorizer: 1.000 +/- 0.000\n",
            "LogisticRegression with TfidfVectorizer: 0.973 +/- 0.001\n",
            "SVC with CountVectorizer: 0.988 +/- 0.002\n",
            "SVC with TfidfVectorizer: 0.987 +/- 0.003\n",
            "**************************************************\n",
            "Classifier                Vectorizer           Accuracy   Precision  Recall     F1        \n",
            "DummyClassifier           CountVectorizer      0.962      0.481      0.500      0.490     \n",
            "DummyClassifier           TfidfVectorizer      0.962      0.481      0.500      0.490     \n",
            "DummyClassifier           CountVectorizer      0.929      0.496      0.496      0.496     \n",
            "DummyClassifier           TfidfVectorizer      0.927      0.519      0.521      0.520     \n",
            "LogisticRegression        CountVectorizer      1.000      1.000      1.000      1.000     \n",
            "LogisticRegression        TfidfVectorizer      0.979      0.990      0.726      0.806     \n",
            "SVC                       CountVectorizer      0.992      0.996      0.890      0.936     \n",
            "SVC                       TfidfVectorizer      0.993      0.996      0.904      0.945     \n"
          ]
        }
      ]
    },
    {
      "cell_type": "code",
      "source": [
        "#Comparing Classifiers \n",
        "\n",
        "from sklearn.model_selection import train_test_split, cross_val_score\n",
        "from sklearn.dummy import DummyClassifier\n",
        "from sklearn.linear_model import LogisticRegression\n",
        "from sklearn.svm import SVC\n",
        "from sklearn.feature_extraction.text import CountVectorizer, TfidfVectorizer\n",
        "from sklearn.metrics import accuracy_score, precision_score, recall_score, f1_score\n",
        "import matplotlib.pyplot as plt\n",
        "import numpy as np\n",
        "import random\n",
        "#Define the training and validation sets:\n",
        "X_train, X_val, y_train, y_val = train_test_split(rev_train_val, rec_train_val, test_size=0.2, random_state=12)\n",
        "\n",
        "#Define the classifiers and their parameters:\n",
        "dummy_classifiers = [    DummyClassifier(strategy=\"most_frequent\"),    DummyClassifier(strategy=\"stratified\")]\n",
        "logistic_regression = LogisticRegression(solver='lbfgs', max_iter=1000)\n",
        "svc = SVC(kernel='rbf')\n",
        "count_vectorizer = CountVectorizer()\n",
        "tfidf_vectorizer = TfidfVectorizer()\n",
        "results = {}\n",
        "\n",
        "#Train the classifiers and evaluate them on the validation set:\n",
        "for clf in dummy_classifiers + [logistic_regression, svc]:\n",
        "    for vectorizer in [count_vectorizer, tfidf_vectorizer]:\n",
        "        X_train_transformed = vectorizer.fit_transform(X_train)\n",
        "        X_val_transformed = vectorizer.transform(X_val)\n",
        "        clf.fit(X_train_transformed, y_train)\n",
        "        y_pred = clf.predict(X_val_transformed)\n",
        "        accuracy = accuracy_score(y_val, y_pred)\n",
        "        precision_macro = precision_score(y_val, y_pred, average='macro',zero_division=0)\n",
        "        recall_macro = recall_score(y_val, y_pred, average='macro')\n",
        "        f1_macro = f1_score(y_val, y_pred, average='macro')\n",
        "        results[(clf.__class__.__name__, vectorizer.__class__.__name__)] = (accuracy, precision_macro, recall_macro, f1_macro)\n",
        "\n",
        "#Print the evaluation metrics:\n",
        "print(\"Results on Validation Set:\")\n",
        "print(\"{:<25} {:<20} {:<10} {:<10} {:<10}\".format('Classifier', 'Feature Representation', 'Accuracy', 'Precision', 'Recall', 'F1'))\n",
        "for key, value in results.items():\n",
        "    classifier, feature_representation = key\n",
        "    accuracy, precision_macro, recall_macro, f1_macro = value\n",
        "    print(\"{:<25} {:<20} {:.3f}      {:.3f}      {:.3f}     {:.3f}\".format(classifier, feature_representation, accuracy, precision_macro, recall_macro, f1_macro))\n",
        "best_clf = max(results, key=lambda x: results[x][3])\n",
        "best_clf_name = best_clf[0]\n",
        "best_vectorizer_name = best_clf[1]\n",
        "X_train_transformed = vectorizer.fit_transform(rev_train_val)\n",
        "X_val_transformed = vectorizer.transform(rev_val)\n",
        "clf = eval(best_clf_name)()\n",
        "clf.fit(X_train_transformed, rec_train_val)\n",
        "y_pred = clf.predict(X_val_transformed)\n",
        "f1_scores = f1_score(rec_val, y_pred, average=None)\n",
        "classes = clf.classes_\n",
        "plt.bar(classes, f1_scores)\n",
        "plt.title(f\"Macro F1 Scores for {best_clf_name} with {best_vectorizer_name}\")\n",
        "plt.xlabel(\"Classes\")\n",
        "plt.ylabel(\"Macro F1 Scores\")\n",
        "plt.show()\n"
      ],
      "metadata": {
        "colab": {
          "base_uri": "https://localhost:8080/",
          "height": 434
        },
        "id": "GtMNsP_5nfVO",
        "outputId": "ac5a63fd-e988-43ac-e562-6ed1ee090c1c"
      },
      "execution_count": 12,
      "outputs": [
        {
          "output_type": "stream",
          "name": "stdout",
          "text": [
            "Results on Validation Set:\n",
            "Classifier                Feature Representation Accuracy   Precision  Recall    \n",
            "DummyClassifier           CountVectorizer      0.922      0.510      0.511     0.511\n",
            "DummyClassifier           TfidfVectorizer      0.920      0.495      0.495     0.495\n",
            "LogisticRegression        CountVectorizer      0.966      0.799      0.660     0.706\n",
            "LogisticRegression        TfidfVectorizer      0.961      0.480      0.500     0.490\n",
            "SVC                       CountVectorizer      0.965      0.982      0.549     0.581\n",
            "SVC                       TfidfVectorizer      0.966      0.983      0.566     0.607\n"
          ]
        },
        {
          "output_type": "display_data",
          "data": {
            "text/plain": [
              "<Figure size 432x288 with 1 Axes>"
            ],
            "image/png": "[encoded data removed]"
          },
          "metadata": {
            "needs_background": "light"
          }
        }
      ]
    },
    {
      "cell_type": "code",
      "source": [
        "logistic_regression = LogisticRegression(solver='lbfgs', max_iter=1000, C=10)\n",
        "\n",
        "# Define the feature representations\n",
        "tfidf_vectorizer = TfidfVectorizer(sublinear_tf=True, max_features=1000)\n",
        "\n",
        "# Evaluate the classifiers using cross-validation\n",
        "for clf in [logistic_regression]:\n",
        "    for vectorizer in  [tfidf_vectorizer]:\n",
        "        X_train_transformed = vectorizer.fit_transform(rev_train)\n",
        "        scores = cross_val_score(clf, X_train_transformed, rec_train, cv=5)\n",
        "        print(f\"{clf.__class__.__name__} with {vectorizer.__class__.__name__}: {scores.mean():.3f} +/- {scores.std():.3f}\")\n"
      ],
      "metadata": {
        "colab": {
          "base_uri": "https://localhost:8080/"
        },
        "id": "YNErnKcCq2GK",
        "outputId": "48adeb63-019d-41eb-9cc8-f5d0c97302da"
      },
      "execution_count": 20,
      "outputs": [
        {
          "output_type": "stream",
          "name": "stdout",
          "text": [
            "LogisticRegression with TfidfVectorizer: 0.958 +/- 0.002\n"
          ]
        }
      ]
    },
    {
      "cell_type": "code",
      "source": [
        "from sklearn.model_selection import GridSearchCV\n",
        "from sklearn.pipeline import Pipeline\n",
        "\n",
        "# Define the pipeline with the vectorizer and classifier\n",
        "pipeline = Pipeline([\n",
        "    ('tfidf', TfidfVectorizer()),\n",
        "    ('clf', LogisticRegression(solver='lbfgs', max_iter=1000))\n",
        "])\n",
        "\n",
        "# Define the parameter grid to search over\n",
        "param_grid = {\n",
        "    'tfidf__sublinear_tf': [True, False],\n",
        "    'tfidf__max_features': [None, 5000, 10000, 20000],\n",
        "    'clf__C': [0.001, 0.01, 0.1, 1, 10, 100, 1000],\n",
        "}\n",
        "\n",
        "# Perform grid search with cross-validation\n",
        "grid_search = GridSearchCV(pipeline, param_grid=param_grid, cv=5)\n",
        "grid_search.fit(rev_val, rec_val)\n",
        "\n",
        "# Print the best parameters and score\n",
        "print(\"Best parameters: \", grid_search.best_params_)\n",
        "print(\"Best score: {:.3f}\".format(grid_search.best_score_))\n",
        "\n",
        "\n"
      ],
      "metadata": {
        "colab": {
          "base_uri": "https://localhost:8080/"
        },
        "id": "nG-h7l-Jqa7m",
        "outputId": "232ac69e-9384-4a00-ba5c-feb4a1c25fac"
      },
      "execution_count": 26,
      "outputs": [
        {
          "output_type": "stream",
          "name": "stdout",
          "text": [
            "Best parameters:  {'clf__C': 1000, 'tfidf__max_features': None, 'tfidf__sublinear_tf': False}\n",
            "Best score: 0.964\n"
          ]
        }
      ]
    },
    {
      "cell_type": "code",
      "source": [
        "import json\n",
        "import numpy as np\n",
        "from sklearn.model_selection import train_test_split\n",
        "from sklearn.naive_bayes import MultinomialNB\n",
        "from sklearn.feature_extraction.text import TfidfVectorizer\n",
        "from sklearn.metrics import accuracy_score, precision_score, recall_score, f1_score\n",
        "\n",
        "\n",
        "# Split the data into training and validation sets\n",
        "X_train, X_val, y_train, y_val = train_test_split(rev_train_val, rec_train_val, test_size=0.2, random_state=12)\n",
        "\n",
        "# Vectorize the text\n",
        "vectorizer = TfidfVectorizer(stop_words='english')\n",
        "X_train_tfidf = vectorizer.fit_transform(X_train)\n",
        "X_val_tfidf = vectorizer.transform(X_val)\n",
        "\n",
        "# Vectorize the text\n",
        "vectorizer = TfidfVectorizer(stop_words='english')\n",
        "X_train_tfidf = vectorizer.fit_transform(X_train)\n",
        "X_val_tfidf = vectorizer.transform(X_val)\n",
        "\n",
        "# Train the classifier\n",
        "clf = MultinomialNB()\n",
        "clf.fit(X_train_tfidf, y_train)\n",
        "\n",
        "# Evaluate the classifier on the validation set\n",
        "y_val_pred = clf.predict(X_val_tfidf)\n",
        "acc = accuracy_score(y_val, y_val_pred)\n",
        "prec = precision_score(y_val, y_val_pred, average='macro',zero_division=0)\n",
        "rec = recall_score(y_val, y_val_pred, average='macro')\n",
        "f1 = f1_score(y_val, y_val_pred, average='macro')\n",
        "\n",
        "print(f\"Accuracy: {acc:.3f}\")\n",
        "print(f\"Macro-averaged Precision: {prec:.3f}\")\n",
        "print(f\"Macro-averaged Recall: {rec:.3f}\")\n",
        "print(f\"Macro-averaged F1: {f1:.3f}\")\n"
      ],
      "metadata": {
        "colab": {
          "base_uri": "https://localhost:8080/"
        },
        "id": "jng6Ib_cne3s",
        "outputId": "dde91a91-307c-4810-b4e4-1397dca9cee6"
      },
      "execution_count": 17,
      "outputs": [
        {
          "output_type": "stream",
          "name": "stdout",
          "text": [
            "Accuracy: 0.961\n",
            "Macro-averaged Precision: 0.480\n",
            "Macro-averaged Recall: 0.500\n",
            "Macro-averaged F1: 0.490\n"
          ]
        }
      ]
    },
    {
      "cell_type": "code",
      "source": [],
      "metadata": {
        "id": "dBENVFfdpeiy"
      },
      "execution_count": 51,
      "outputs": []
    },
    {
      "cell_type": "code",
      "source": [],
      "metadata": {
        "id": "EG7ghB7Euue1"
      },
      "execution_count": 55,
      "outputs": []
    },
    {
      "cell_type": "code",
      "source": [],
      "metadata": {
        "id": "-w3nn0E-qENT"
      },
      "execution_count": 55,
      "outputs": []
    },
    {
      "cell_type": "code",
      "source": [
        "'''# Define the ranges of values for each parameter\n",
        "c_values = [0.001, 0.01, 0.1, 1, 10, 100, 1000, 10000, 100000]\n",
        "sublinear_tf_values = [True, False]\n",
        "max_features_values = [None, 1000, 5000, 10000, 50000]\n",
        "# Choose another parameter to tune\n",
        "kernel_values = ['linear', 'poly', 'rbf', 'sigmoid']\n",
        "\n",
        "# Define a function to evaluate the classifier on the validation set with given parameters\n",
        "def evaluate_classifier(c, sublinear_tf, max_features, kernel):\n",
        "    vectorizer = TfidfVectorizer(sublinear_tf=sublinear_tf, max_features=max_features)\n",
        "    X_train_transformed = vectorizer.fit_transform(X_train)\n",
        "    X_val_transformed = vectorizer.transform(X_val)\n",
        "    clf = SVC(kernel=kernel, C=c)\n",
        "    clf.fit(X_train_transformed, y_train)\n",
        "    y_pred = clf.predict(X_val_transformed)\n",
        "    f1_macro = f1_score(y_val, y_pred, average='macro')\n",
        "    return f1_macro\n",
        "\n",
        "# Loop through all combinations of parameter values and evaluate the classifier\n",
        "best_f1_score = 0\n",
        "for c in c_values:\n",
        "    for sublinear_tf in sublinear_tf_values:\n",
        "        for max_features in max_features_values:\n",
        "            for kernel in kernel_values:\n",
        "                f1_macro = evaluate_classifier(c, sublinear_tf, max_features, kernel)\n",
        "                if f1_macro > best_f1_score:\n",
        "                    best_f1_score = f1_macro\n",
        "                    best_c = c\n",
        "                    best_sublinear_tf = sublinear_tf\n",
        "                    best_max_features = max_features\n",
        "                    best_kernel = kernel\n",
        "\n",
        "# Print the best parameter values and the corresponding f1 score on the validation set\n",
        "print(\"Best parameters:\")\n",
        "print(\"C value:\", best_c)\n",
        "print(\"Sublinear TF:\", best_sublinear_tf)\n",
        "print(\"Max features:\", best_max_features)\n",
        "print(\"Kernel:\", best_kernel)\n",
        "print(\"Best F1 score on validation set:\", best_f1_score)\n",
        "'''\n",
        "\n",
        "\n",
        "#Best parameters:\n",
        "#C value: 10\n",
        "#Sublinear TF: True\n",
        "#Max features: 1000\n",
        "#Kernel: linear\n",
        "#Best F1 score on validation set: 0.7450214164172975"
      ],
      "metadata": {
        "colab": {
          "base_uri": "https://localhost:8080/"
        },
        "id": "g3DHvqbWuwYb",
        "outputId": "d6b0ed3b-7aef-4f54-ed7d-5566c564023e"
      },
      "execution_count": 55,
      "outputs": [
        {
          "output_type": "stream",
          "name": "stdout",
          "text": [
            "Best parameters:\n",
            "C value: 10\n",
            "Sublinear TF: True\n",
            "Max features: 1000\n",
            "Kernel: linear\n",
            "Best F1 score on validation set: 0.7450214164172975\n"
          ]
        }
      ]
    },
    {
      "cell_type": "code",
      "source": [
        "!pip install transformers\n"
      ],
      "metadata": {
        "id": "UaDda58G6R34",
        "colab": {
          "base_uri": "https://localhost:8080/"
        },
        "outputId": "1b38542d-cb98-41d3-e2ac-fccd8dbe4598"
      },
      "execution_count": null,
      "outputs": [
        {
          "output_type": "stream",
          "name": "stdout",
          "text": [
            "Looking in indexes: https://pypi.org/simple, https://us-python.pkg.dev/colab-wheels/public/simple/\n",
            "Collecting transformers\n",
            "  Downloading transformers-4.26.1-py3-none-any.whl (6.3 MB)\n",
            "\u001b[2K     \u001b[90m━━━━━━━━━━━━━━━━━━━━━━━━━━━━━━━━━━━━━━━━\u001b[0m \u001b[32m6.3/6.3 MB\u001b[0m \u001b[31m27.0 MB/s\u001b[0m eta \u001b[36m0:00:00\u001b[0m\n",
            "\u001b[?25hRequirement already satisfied: pyyaml>=5.1 in /usr/local/lib/python3.8/dist-packages (from transformers) (6.0)\n",
            "Requirement already satisfied: tqdm>=4.27 in /usr/local/lib/python3.8/dist-packages (from transformers) (4.64.1)\n",
            "Requirement already satisfied: numpy>=1.17 in /usr/local/lib/python3.8/dist-packages (from transformers) (1.22.4)\n",
            "Collecting tokenizers!=0.11.3,<0.14,>=0.11.1\n",
            "  Downloading tokenizers-0.13.2-cp38-cp38-manylinux_2_17_x86_64.manylinux2014_x86_64.whl (7.6 MB)\n",
            "\u001b[2K     \u001b[90m━━━━━━━━━━━━━━━━━━━━━━━━━━━━━━━━━━━━━━━━\u001b[0m \u001b[32m7.6/7.6 MB\u001b[0m \u001b[31m79.6 MB/s\u001b[0m eta \u001b[36m0:00:00\u001b[0m\n",
            "\u001b[?25hCollecting huggingface-hub<1.0,>=0.11.0\n",
            "  Downloading huggingface_hub-0.12.1-py3-none-any.whl (190 kB)\n",
            "\u001b[2K     \u001b[90m━━━━━━━━━━━━━━━━━━━━━━━━━━━━━━━━━━━━━━\u001b[0m \u001b[32m190.3/190.3 KB\u001b[0m \u001b[31m21.7 MB/s\u001b[0m eta \u001b[36m0:00:00\u001b[0m\n",
            "\u001b[?25hRequirement already satisfied: filelock in /usr/local/lib/python3.8/dist-packages (from transformers) (3.9.0)\n",
            "Requirement already satisfied: regex!=2019.12.17 in /usr/local/lib/python3.8/dist-packages (from transformers) (2022.6.2)\n",
            "Requirement already satisfied: requests in /usr/local/lib/python3.8/dist-packages (from transformers) (2.25.1)\n",
            "Requirement already satisfied: packaging>=20.0 in /usr/local/lib/python3.8/dist-packages (from transformers) (23.0)\n",
            "Requirement already satisfied: typing-extensions>=3.7.4.3 in /usr/local/lib/python3.8/dist-packages (from huggingface-hub<1.0,>=0.11.0->transformers) (4.5.0)\n",
            "Requirement already satisfied: certifi>=2017.4.17 in /usr/local/lib/python3.8/dist-packages (from requests->transformers) (2022.12.7)\n",
            "Requirement already satisfied: chardet<5,>=3.0.2 in /usr/local/lib/python3.8/dist-packages (from requests->transformers) (4.0.0)\n",
            "Requirement already satisfied: idna<3,>=2.5 in /usr/local/lib/python3.8/dist-packages (from requests->transformers) (2.10)\n",
            "Requirement already satisfied: urllib3<1.27,>=1.21.1 in /usr/local/lib/python3.8/dist-packages (from requests->transformers) (1.26.14)\n",
            "Installing collected packages: tokenizers, huggingface-hub, transformers\n",
            "Successfully installed huggingface-hub-0.12.1 tokenizers-0.13.2 transformers-4.26.1\n"
          ]
        }
      ]
    },
    {
      "cell_type": "code",
      "source": [
        "from transformers import RobertaTokenizer, RobertaModel\n",
        "\n",
        "tokenizer = RobertaTokenizer.from_pretrained('roberta-base')\n",
        "model = RobertaModel.from_pretrained('roberta-base')\n"
      ],
      "metadata": {
        "colab": {
          "base_uri": "https://localhost:8080/"
        },
        "id": "E4ENSbUgHN5J",
        "outputId": "b54b0ad5-2868-4d18-aa3b-48959ae9c31d"
      },
      "execution_count": null,
      "outputs": [
        {
          "output_type": "stream",
          "name": "stderr",
          "text": [
            "Some weights of the model checkpoint at roberta-base were not used when initializing RobertaModel: ['lm_head.dense.bias', 'lm_head.bias', 'lm_head.dense.weight', 'lm_head.decoder.weight', 'lm_head.layer_norm.weight', 'lm_head.layer_norm.bias']\n",
            "- This IS expected if you are initializing RobertaModel from the checkpoint of a model trained on another task or with another architecture (e.g. initializing a BertForSequenceClassification model from a BertForPreTraining model).\n",
            "- This IS NOT expected if you are initializing RobertaModel from the checkpoint of a model that you expect to be exactly identical (initializing a BertForSequenceClassification model from a BertForSequenceClassification model).\n"
          ]
        }
      ]
    },
    {
      "cell_type": "code",
      "source": [],
      "metadata": {
        "id": "uH_QuBmJHT33"
      },
      "execution_count": null,
      "outputs": []
    },
    {
      "cell_type": "code",
      "source": [
        "import torch\n",
        "from transformers import RobertaTokenizer, RobertaModel\n",
        "\n",
        "# Load the pre-trained model and tokenizer\n",
        "tokenizer = RobertaTokenizer.from_pretrained('roberta-base')\n",
        "model = RobertaModel.from_pretrained('roberta-base')\n",
        "\n",
        "# Encode the text using the tokenizer\n",
        "input_ids = []\n",
        "for doc in data:\n",
        "    encoded = tokenizer.encode(doc['Review'], add_special_tokens=True, truncation=True)\n",
        "    input_ids.append(encoded)\n",
        "\n",
        "# Pad the input sequences\n",
        "max_len = max([len(seq) for seq in input_ids])\n",
        "padded_input_ids = []\n",
        "for seq in input_ids:\n",
        "    padded_seq = seq + [0]*(max_len-len(seq))\n",
        "    padded_input_ids.append(padded_seq)\n",
        "\n",
        "# Convert the input sequences to tensors\n",
        "input_ids = torch.tensor(padded_input_ids)\n",
        "\n",
        "# Extract the first context vector for each document\n",
        "outputs = model(input_ids)\n",
        "context_vectors = outputs.last_hidden_state[:, 0, :].detach().numpy()\n"
      ],
      "metadata": {
        "colab": {
          "base_uri": "https://localhost:8080/"
        },
        "id": "aB57ggl6HdMd",
        "outputId": "054a4be6-1eda-4e86-fee0-39f98130dffa"
      },
      "execution_count": null,
      "outputs": [
        {
          "output_type": "stream",
          "name": "stderr",
          "text": [
            "Some weights of the model checkpoint at roberta-base were not used when initializing RobertaModel: ['lm_head.dense.bias', 'lm_head.bias', 'lm_head.dense.weight', 'lm_head.decoder.weight', 'lm_head.layer_norm.weight', 'lm_head.layer_norm.bias']\n",
            "- This IS expected if you are initializing RobertaModel from the checkpoint of a model trained on another task or with another architecture (e.g. initializing a BertForSequenceClassification model from a BertForPreTraining model).\n",
            "- This IS NOT expected if you are initializing RobertaModel from the checkpoint of a model that you expect to be exactly identical (initializing a BertForSequenceClassification model from a BertForSequenceClassification model).\n"
          ]
        }
      ]
    },
    {
      "cell_type": "code",
      "source": [],
      "metadata": {
        "id": "eLj4mwuIHgoi"
      },
      "execution_count": null,
      "outputs": []
    },
    {
      "cell_type": "code",
      "source": [],
      "metadata": {
        "id": "7evtcTmnI5Wu"
      },
      "execution_count": null,
      "outputs": []
    }
  ],
  "metadata": {
    "kernelspec": {
      "display_name": "Python 3",
      "language": "python",
      "name": "python3"
    },
    "language_info": {
      "codemirror_mode": {
        "name": "ipython",
        "version": 3
      },
      "file_extension": ".py",
      "mimetype": "text/x-python",
      "name": "python",
      "nbconvert_exporter": "python",
      "pygments_lexer": "ipython3",
      "version": "3.8.3"
    },
    "colab": {
      "provenance": [],
      "include_colab_link": true
    },
    "accelerator": "GPU",
    "gpuClass": "standard"
  },
  "nbformat": 4,
  "nbformat_minor": 0
}